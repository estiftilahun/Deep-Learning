{
 "cells": [
  {
   "cell_type": "markdown",
   "metadata": {},
   "source": [
    "<a href=\"https://colab.research.google.com/github/jeffheaton/t81_558_deep_learning/blob/master/t81_558_class_01_1_overview.ipynb\" target=\"_parent\"><img src=\"https://colab.research.google.com/assets/colab-badge.svg\" alt=\"Open In Colab\"/></a>"
   ]
  },
  {
   "cell_type": "markdown",
   "metadata": {},
   "source": [
    "# Applications of Deep Neural Networks\n",
    "**Module 1: Python Preliminaries**\n",
    "* Instructor: [Estifanos Tilahun Mihret](https://www.researchgate.net/profile/Estifanos-Mihret), [Brainstorming Tech Materials.](https://www.youtube.com/@BrainstormingTechMaterials)\n",
    "* For more information visit the [my Github projects](https://github.com/sci-tech-with-estif)."
   ]
  },
  {
   "cell_type": "markdown",
   "metadata": {},
   "source": [
    "These installation instructions can be used with the following YouTube video.\n",
    "\n",
    "* [Installing PyTorch on Linux for CPU and GPU]()\n",
   
    "\n",
    "\n",
    "# Software Installation\n",
    "This notebook described how to install PyTorch for either CPU and GPU\n",
    "\n",
    "## Installing Python and PyTorch\n",
    "\n",
    "It is possible to install and run Python/PyTorch entirely from your computer, without the need for Google CoLab. Running PyTorch locally does require some software configuration and installation. If you are not comfortable with software installation, just use Google CoLab. These instructions show you how to install PyTorch for both CPU and GPU. Many of the examples in this project will achieve considerable performance improvement from a GPU.\n",
    "\n",
    "The first step is to install Python 3.7. I recommend using the Miniconda (Anaconda) release of Python, as it already includes many of the data science related packages that are needed by this class. Anaconda directly supports Windows, Mac, and Linux. Miniconda is the minimal set of features from the extensive Anaconda Python distribution. Download Miniconda from the following URL:\n",
    "\n",
    "* [Miniconda](https://docs.conda.io/en/latest/miniconda.html)\n",
    "\n",
    "First, lets install Jupyter, which is the editor you will use in this project.\n",
    "\n",
    "```\n",
    "conda install -y jupyter\n",
    "```\n",
    "\n",
    "We will actually lunch Jupyter later.\n",
    "\n",
    "You must make sure that PyTorch has the version of Python that it is compatible with. The best way to accomplish this is with an Anaconda environment. Each environment that you create can have its own Python version, drivers, and Python libraries. I suggest that you create an environment to hold the Python instance for this project. Use the following command to create your environment. I am calling the environment **torch**, you can name yours whatever you like.\n",
    "\n",
    "```\n",
    "conda create --name torch python=3.7\n",
    "```\n",
    "\n",
    "To enter this environment, you must use the following command:\n",
    "\n",
    "```\n",
    "conda activate torch\n",
    "```\n",
    "\n",
    "For now, lets add Jupyter support to your new environment.\n",
    "\n",
    "```\n",
    "conda install nb_conda\"\n",
    "```\n",
    "\n",
    "We will now install PyTorch. We will make use of conda for this installation. The next two sections describe how to install PyTorch for both CPU and GPU. To use GPU, you must have a [compatible NVIDIA GPU](https://developer.nvidia.com/cuda-gpus)."
   ]
  },
  {
   "cell_type": "markdown",
   "metadata": {},
   "source": [
    "## Install PyTorch for CPU Only\n",
    "\n",
    "The following command installs PyTorch for CPU support. Even if you have a GPU, it will not be used.\n",
    "\n",
     "```\n",
    "conda install pytorch -c pytorch\"\n",
    "```\n",
    "\n",
   "\n",
   "## Install PyTorch for GPU and CPU\n"
   "\n",
   "The follwoing command installs PyTorch for GPU support. All of the complex driver installations should be handled by this command.\n",
   "\n",
   "```\n",
    "conda install pytorch -c pytorch\"\n",
    "```\n",
    "\n",
    "## Install Additional Libraries for Machine Learning\n",
    "\n",
    "There are several additional libraries that you will need for this course. This command will install them. Make sure you are still in your pytorch environment.\n",
    "\n",
     "```\n",
    "conda env update --file tools.yml\"\n",
    "```\n",
    "\n",
    "$ f'(x) = \\lim_{h\\to0} \\frac{f(x+h) - f(x)}{h}. $\n",
    "\n",
    "## Python Versions\n",
    "\n",
    "* If you see `xrange` instead of `range`, you are dealing with Python 2\n",
    "* If you see `print x` instead of `print(x)`, you are dealing with Python 2 \n",
    "* This class uses Python 3.6!"
   ]
  },
  {
   "cell_type": "code",
   "execution_count": 2,
   "metadata": {},
   "outputs": [
    {
     "name": "stdout",
     "output_type": "stream",
     "text": [
      "Tensor Flow Version: 2.0.0\n",
      "Keras Version: 2.2.4-tf\n",
      "\n",
      "Python 3.7.5 (default, Oct 25 2019, 10:52:18) \n",
      "[Clang 4.0.1 (tags/RELEASE_401/final)]\n",
      "Pandas 0.25.3\n",
      "Scikit-Learn 0.21.3\n",
      "GPU is NOT AVAILABLE\n"
     ]
    }
   ],
   "source": [
    "# What version of Python do you have?\n",
    "import sys\n",
    "\n",
    "import tensorflow.keras\n",
    "import pandas as pd\n",
    "import sklearn as sk\n",
    "import tensorflow as tf\n",
    "\n",
    "print(f\"Tensor Flow Version: {tf.__version__}\")\n",
    "print(f\"Keras Version: {tensorflow.keras.__version__}\")\n",
    "print()\n",
    "print(f\"Python {sys.version}\")\n",
    "print(f\"Pandas {pd.__version__}\")\n",
    "print(f\"Scikit-Learn {sk.__version__}\")\n",
    "print(\"GPU is\", \"available\" if tf.test.is_gpu_available() else \"NOT AVAILABLE\")"
   ]
  }
 ],
 "metadata": {
  "anaconda-cloud": {},
  "kernelspec": {
   "display_name": "Python 3.7 (tensorflow)",
   "language": "python",
   "name": "tensorflow"
  },
  "language_info": {
   "codemirror_mode": {
    "name": "ipython",
    "version": 3
   },
   "file_extension": ".py",
   "mimetype": "text/x-python",
   "name": "python",
   "nbconvert_exporter": "python",
   "pygments_lexer": "ipython3",
   "version": "3.7.7"
  }
 },
 "nbformat": 4,
 "nbformat_minor": 4
}
