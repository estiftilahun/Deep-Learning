{
 "cells": [
  {
   "cell_type": "markdown",
   "metadata": {},
   "source": [
    "<a href=\"https://colab.research.google.com/github/jeffheaton/t81_558_deep_learning/blob/master/t81_558_class_01_1_overview.ipynb\" target=\"_parent\"><img src=\"https://colab.research.google.com/assets/colab-badge.svg\" alt=\"Open In Colab\"/></a>"
   ]
  },
  {
   "cell_type": "markdown",
   "metadata": {},
   "source": [
    "# Applications of Deep Neural Networks\n",
    "**Module 1: Python Preliminaries**\n",
    "* Instructor: [Estifanos Tilahun Mihret](https://www.researchgate.net/profile/Estifanos-Mihret), [Brainstorming Tech Materials](https://www.youtube.com/@BrainstormingTechMaterials)\n",
    "* For more information visit the [my Github projects](https://github.com/sci-tech-with-estif)."
   ]
  },
  {
   "cell_type": "markdown",
   "metadata": {},
   "source": [
    "These installation instructions can be used with the following YouTube video.\n",
    "\n",
    "* [Installing PyTorch on Linux for CPU and GPU]()\n",
   
    "\n",
    "\n",
    "# Software Installation\n",
    "This notebook described how to install PyTorch for either CPU and GPU\n",
    "\n",
    "## Installing Python and PyTorch\n",
    "\n",
    "It is possible to install and run Python/PyTorch entirely from your computer, without the need for Google CoLab. Running PyTorch locally does require some software configuration and installation. If you are not comfortable with software installation, just use Google CoLab. These instructions show you how to install PyTorch for both CPU and GPU. Many of the examples in this project will achieve considerable performance improvement from a GPU.\n",
    "\n",
    "The first step is to install Python 3.7. I recommend using the Miniconda (Anaconda) release of Python, as it already includes many of the data science related packages that are needed by this class. Anaconda directly supports Windows, Mac, and Linux. Miniconda is the minimal set of features from the extensive Anaconda Python distribution. Download Miniconda from the following URL:\n",
    "\n",
    "* [Miniconda](https://docs.conda.io/en/latest/miniconda.html)\n",
    "\n",
    "First, lets install Jupyter, which is the editor you will use in this project.\n",
    "\n",
    "```\n",
    "**conda install -y jupyter**\n",
    "```\n",
    "\n",
    "We will actually lunch Jupyter later.\n",
    "\n",
    "You must make sure that PyTorch has the version of Python that it is compatible with. The best way to accomplish this is with an Anaconda environment. Each environment that you create can have its own Python version, drivers, and Python libraries. I suggest that you create an environment to hold the Python instance for this project. Use the following command to create your environment. I am calling the environment **torch**, you can name yours whatever you like.\n",
    "\n",
    "**VERY IMPORTANT** If a later version of Miniconda than 3.7 is available, then download and install it.  We will create a Python 3.7 environment just for TensorFlow.  Not all TensorFlow 2.0 packages currently support later than Python 3.7.  Usually, you will need to stay one version back from the latest Python to maximize compatibility with standard machine learning packages. \n",
    "\n",
    "You will install all of the needed TensorFlow and machine learning packages with an Anaconda YAML installation script that I provide. The script can be downloaded from here (it is the same script for Windows, Mac, and Linux):\n",
    "\n",
    "* [T81-558: TensorFlow Environment Setup Script: tensorflow.yml](https://raw.githubusercontent.com/jeffheaton/t81_558_deep_learning/master/tensorflow.yml)\n",
    "* [T81-558: TensorFlow Environment Setup Script for GPU: tensorflow-gpu.yml](https://raw.githubusercontent.com/jeffheaton/t81_558_deep_learning/master/tensorflow-gpu.yml)\n",
    "* [Instructions for TensorFlow GPU Setup](https://www.tensorflow.org/install/gpu)\n",
    "\n",
    "Assuming you have MiniConda installed, run the following command from a terminal prompt.  Make sure you downloaded the **tensorflow.yml** script to the same directory so that Conda can find it.\n",
    "\n",
    "```\n",
    "conda env create -v -f tensorflow.yml\n",
    "```\n",
    "\n",
    "To enter this environment, you must use the following command. You must execute this command every time you open a new Anaconda/Miniconda terminal window:\n",
    "\n",
    "```\n",
    "conda activate tensorflow\n",
    "```\n",
    "\n",
    "You must also link your new **tensorflow** environment to Jupyter so that you can choose it as a Kernal.  Always make sure to run your Jupyter notebooks from your 3.7 kernel. You should only need to enter this command once.\n",
    "\n",
    "```\n",
    "python -m ipykernel install --user --name tensorflow --display-name \"Python 3.7 (tensorflow)\"\n",
    "```\n",
    "\n",
    "At this point, you should have a working Python environment for TensorFlow."
   ]
  },
  {
   "cell_type": "markdown",
   "metadata": {},
   "source": [
    "# Python Introduction\n",
    "\n",
    "\n",
    "* [Anaconda v3.6](https://www.continuum.io/downloads) Scientific Python Distribution, including: [Scikit-Learn](http://scikit-learn.org/), [Pandas](http://pandas.pydata.org/), and others: csv, json, numpy, scipy\n",
    "* [Jupyter Notebooks](http://jupyter.readthedocs.io/en/latest/install.html)\n",
    "* [PyCharm IDE](https://www.jetbrains.com/pycharm/)\n",
    "* [Cx_Oracle](http://cx-oracle.sourceforge.net/)\n",
    "* [MatPlotLib](http://matplotlib.org/)\n",
    "\n",
    "## Jupyter Notebooks\n",
    "\n",
    "Space matters in Python, indent code to define blocks\n",
    "\n",
    "Jupyter Notebooks Allow Python and Markdown to coexist.\n",
    "\n",
    "Even LaTeX math:\n",
    "\n",
    "$ f'(x) = \\lim_{h\\to0} \\frac{f(x+h) - f(x)}{h}. $\n",
    "\n",
    "## Python Versions\n",
    "\n",
    "* If you see `xrange` instead of `range`, you are dealing with Python 2\n",
    "* If you see `print x` instead of `print(x)`, you are dealing with Python 2 \n",
    "* This class uses Python 3.6!"
   ]
  },
  {
   "cell_type": "code",
   "execution_count": 2,
   "metadata": {},
   "outputs": [
    {
     "name": "stdout",
     "output_type": "stream",
     "text": [
      "Tensor Flow Version: 2.0.0\n",
      "Keras Version: 2.2.4-tf\n",
      "\n",
      "Python 3.7.5 (default, Oct 25 2019, 10:52:18) \n",
      "[Clang 4.0.1 (tags/RELEASE_401/final)]\n",
      "Pandas 0.25.3\n",
      "Scikit-Learn 0.21.3\n",
      "GPU is NOT AVAILABLE\n"
     ]
    }
   ],
   "source": [
    "# What version of Python do you have?\n",
    "import sys\n",
    "\n",
    "import tensorflow.keras\n",
    "import pandas as pd\n",
    "import sklearn as sk\n",
    "import tensorflow as tf\n",
    "\n",
    "print(f\"Tensor Flow Version: {tf.__version__}\")\n",
    "print(f\"Keras Version: {tensorflow.keras.__version__}\")\n",
    "print()\n",
    "print(f\"Python {sys.version}\")\n",
    "print(f\"Pandas {pd.__version__}\")\n",
    "print(f\"Scikit-Learn {sk.__version__}\")\n",
    "print(\"GPU is\", \"available\" if tf.test.is_gpu_available() else \"NOT AVAILABLE\")"
   ]
  }
 ],
 "metadata": {
  "anaconda-cloud": {},
  "kernelspec": {
   "display_name": "Python 3.7 (tensorflow)",
   "language": "python",
   "name": "tensorflow"
  },
  "language_info": {
   "codemirror_mode": {
    "name": "ipython",
    "version": 3
   },
   "file_extension": ".py",
   "mimetype": "text/x-python",
   "name": "python",
   "nbconvert_exporter": "python",
   "pygments_lexer": "ipython3",
   "version": "3.7.7"
  }
 },
 "nbformat": 4,
 "nbformat_minor": 4
}
